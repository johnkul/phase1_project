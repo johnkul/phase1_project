{
 "cells": [
  {
   "cell_type": "code",
   "execution_count": 6,
   "id": "1cfd9fdb-8b36-4b5b-824e-019ae6e6207f",
   "metadata": {},
   "outputs": [
    {
     "data": {
      "text/html": [
       "<div>\n",
       "<style scoped>\n",
       "    .dataframe tbody tr th:only-of-type {\n",
       "        vertical-align: middle;\n",
       "    }\n",
       "\n",
       "    .dataframe tbody tr th {\n",
       "        vertical-align: top;\n",
       "    }\n",
       "\n",
       "    .dataframe thead th {\n",
       "        text-align: right;\n",
       "    }\n",
       "</style>\n",
       "<table border=\"1\" class=\"dataframe\">\n",
       "  <thead>\n",
       "    <tr style=\"text-align: right;\">\n",
       "      <th></th>\n",
       "      <th>product</th>\n",
       "      <th>narrative</th>\n",
       "    </tr>\n",
       "  </thead>\n",
       "  <tbody>\n",
       "    <tr>\n",
       "      <th>0</th>\n",
       "      <td>credit_card</td>\n",
       "      <td>purchase order day shipping amount receive pro...</td>\n",
       "    </tr>\n",
       "    <tr>\n",
       "      <th>1</th>\n",
       "      <td>credit_card</td>\n",
       "      <td>forwarded message date tue subject please inve...</td>\n",
       "    </tr>\n",
       "    <tr>\n",
       "      <th>2</th>\n",
       "      <td>retail_banking</td>\n",
       "      <td>forwarded message cc sent friday pdt subject f...</td>\n",
       "    </tr>\n",
       "    <tr>\n",
       "      <th>3</th>\n",
       "      <td>credit_reporting</td>\n",
       "      <td>payment history missing credit report speciali...</td>\n",
       "    </tr>\n",
       "    <tr>\n",
       "      <th>4</th>\n",
       "      <td>credit_reporting</td>\n",
       "      <td>payment history missing credit report made mis...</td>\n",
       "    </tr>\n",
       "  </tbody>\n",
       "</table>\n",
       "</div>"
      ],
      "text/plain": [
       "            product                                          narrative\n",
       "0       credit_card  purchase order day shipping amount receive pro...\n",
       "1       credit_card  forwarded message date tue subject please inve...\n",
       "2    retail_banking  forwarded message cc sent friday pdt subject f...\n",
       "3  credit_reporting  payment history missing credit report speciali...\n",
       "4  credit_reporting  payment history missing credit report made mis..."
      ]
     },
     "execution_count": 6,
     "metadata": {},
     "output_type": "execute_result"
    }
   ],
   "source": [
    "import pandas as pd\n",
    "\n",
    "# Load the dataset\n",
    "data = pd.read_csv('./data/complaints_processed.csv', index_col = 0)\n",
    "\n",
    "# Display the first few rows of the dataset\n",
    "data.head()"
   ]
  },
  {
   "cell_type": "code",
   "execution_count": 9,
   "id": "a95cd1fd-28d0-46f1-a293-621655c5114a",
   "metadata": {},
   "outputs": [
    {
     "data": {
      "text/plain": [
       "(162421, 2)"
      ]
     },
     "execution_count": 9,
     "metadata": {},
     "output_type": "execute_result"
    }
   ],
   "source": [
    "data.shape"
   ]
  },
  {
   "cell_type": "code",
   "execution_count": 4,
   "id": "a6c4a744-5799-4af8-9c05-392ca02eb92e",
   "metadata": {},
   "outputs": [
    {
     "name": "stdout",
     "output_type": "stream",
     "text": [
      "<class 'pandas.core.frame.DataFrame'>\n",
      "RangeIndex: 162421 entries, 0 to 162420\n",
      "Data columns (total 3 columns):\n",
      " #   Column      Non-Null Count   Dtype \n",
      "---  ------      --------------   ----- \n",
      " 0   Unnamed: 0  162421 non-null  int64 \n",
      " 1   product     162421 non-null  object\n",
      " 2   narrative   162411 non-null  object\n",
      "dtypes: int64(1), object(2)\n",
      "memory usage: 3.7+ MB\n"
     ]
    }
   ],
   "source": [
    "# Display basic information to understand the structure of the dataset\n",
    "data.info()"
   ]
  },
  {
   "cell_type": "code",
   "execution_count": 7,
   "id": "6473c5cf-1598-4ada-ad2c-de6ad7455f79",
   "metadata": {},
   "outputs": [
    {
     "data": {
      "text/plain": [
       "product       0\n",
       "narrative    10\n",
       "dtype: int64"
      ]
     },
     "execution_count": 7,
     "metadata": {},
     "output_type": "execute_result"
    }
   ],
   "source": [
    "# Display a summary of the missing values\n",
    "data.isnull().sum()"
   ]
  },
  {
   "cell_type": "markdown",
   "id": "850aed0d-9c05-4b58-b415-f18c2cdb55d7",
   "metadata": {},
   "source": [
    "The dataset contains 162,421 entries with the following columns:\n",
    "\n",
    "Unnamed: 0: index column, which can be ignored.\n",
    "\n",
    "product: The target variable representing the product type (e.g., \"credit_card,\" \"retail_banking\").\n",
    "\n",
    "narrative: Text data describing the complaint, which will serve as our feature.\n",
    "There are some missing values (10) in the \"narrative\" column."
   ]
  },
  {
   "cell_type": "code",
   "execution_count": 8,
   "id": "0d8db269-cbb1-4723-bcde-74476d6f254a",
   "metadata": {},
   "outputs": [
    {
     "data": {
      "text/plain": [
       "False    124679\n",
       "True      37742\n",
       "Name: count, dtype: int64"
      ]
     },
     "execution_count": 8,
     "metadata": {},
     "output_type": "execute_result"
    }
   ],
   "source": [
    "# checking for duplicates\n",
    "data.duplicated().value_counts()"
   ]
  },
  {
   "cell_type": "markdown",
   "id": "f6726bea-e04d-4a16-9107-49b08e6323a6",
   "metadata": {},
   "source": [
    "## Baseline model (logistic regression) on Bag-of-Words vectorized text"
   ]
  },
  {
   "cell_type": "code",
   "execution_count": 21,
   "id": "fa768b8c-602c-42b4-9488-76eb9baa3878",
   "metadata": {},
   "outputs": [
    {
     "name": "stderr",
     "output_type": "stream",
     "text": [
      "C:\\Users\\John.Kul\\AppData\\Local\\anaconda3\\Lib\\site-packages\\sklearn\\linear_model\\_logistic.py:458: ConvergenceWarning: lbfgs failed to converge (status=1):\n",
      "STOP: TOTAL NO. of ITERATIONS REACHED LIMIT.\n",
      "\n",
      "Increase the number of iterations (max_iter) or scale the data as shown in:\n",
      "    https://scikit-learn.org/stable/modules/preprocessing.html\n",
      "Please also refer to the documentation for alternative solver options:\n",
      "    https://scikit-learn.org/stable/modules/linear_model.html#logistic-regression\n",
      "  n_iter_i = _check_optimize_result(\n"
     ]
    },
    {
     "name": "stdout",
     "output_type": "stream",
     "text": [
      "Accuracy is:  0.8568174121848351\n",
      "The Report shows:                       precision    recall  f1-score   support\n",
      "\n",
      "        credit_card       0.77      0.71      0.74      3113\n",
      "   credit_reporting       0.89      0.95      0.91     18235\n",
      "    debt_collection       0.80      0.70      0.74      4630\n",
      "mortgages_and_loans       0.85      0.76      0.80      3798\n",
      "     retail_banking       0.84      0.84      0.84      2707\n",
      "\n",
      "           accuracy                           0.86     32483\n",
      "          macro avg       0.83      0.79      0.81     32483\n",
      "       weighted avg       0.85      0.86      0.85     32483\n",
      "\n"
     ]
    }
   ],
   "source": [
    "from sklearn.model_selection import train_test_split\n",
    "from sklearn.feature_extraction.text import CountVectorizer\n",
    "from sklearn.linear_model import LogisticRegression\n",
    "from sklearn.metrics import classification_report, accuracy_score\n",
    "\n",
    "# Drop rows with missing narrative values\n",
    "data_cleaned = data.dropna(subset=['narrative'])\n",
    "\n",
    "# Define features and target\n",
    "X = data_cleaned['narrative']\n",
    "y = data_cleaned['product']\n",
    "\n",
    "# Split data into training and test sets\n",
    "X_train, X_test, y_train, y_test = train_test_split(X, y, test_size=0.2, random_state=42, stratify=y)\n",
    "\n",
    "# Vectorize the text data using Bag-of-Words\n",
    "vectorizer = CountVectorizer()\n",
    "X_train_bow = vectorizer.fit_transform(X_train)\n",
    "X_test_bow = vectorizer.transform(X_test)\n",
    "\n",
    "# Initialize and train the Logistic Regression model\n",
    "log_reg = LogisticRegression(max_iter=1000, random_state=42)\n",
    "log_reg.fit(X_train_bow, y_train)\n",
    "\n",
    "# Make predictions and evaluate the model\n",
    "y_pred = log_reg.predict(X_test_bow)\n",
    "accuracy = accuracy_score(y_test, y_pred)\n",
    "report = classification_report(y_test, y_pred)\n",
    "\n",
    "print(\"Accuracy is: \", accuracy)\n",
    "print(\"The Report shows: \", report)"
   ]
  },
  {
   "cell_type": "code",
   "execution_count": 22,
   "id": "ff94312f-02ab-457b-b881-0c1bd0b32248",
   "metadata": {},
   "outputs": [
    {
     "name": "stdout",
     "output_type": "stream",
     "text": [
      "Accuracy is:  0.824\n",
      "The Report shows:                       precision    recall  f1-score   support\n",
      "\n",
      "        credit_card       0.63      0.71      0.67       387\n",
      "   credit_reporting       0.91      0.87      0.89      2254\n",
      "    debt_collection       0.75      0.67      0.71       565\n",
      "mortgages_and_loans       0.73      0.86      0.79       467\n",
      "     retail_banking       0.78      0.88      0.83       327\n",
      "\n",
      "           accuracy                           0.82      4000\n",
      "          macro avg       0.76      0.80      0.78      4000\n",
      "       weighted avg       0.83      0.82      0.83      4000\n",
      "\n"
     ]
    }
   ],
   "source": [
    "from sklearn.naive_bayes import MultinomialNB\n",
    "from sklearn.model_selection import train_test_split\n",
    "from sklearn.feature_extraction.text import CountVectorizer\n",
    "from sklearn.linear_model import LogisticRegression\n",
    "from sklearn.metrics import classification_report, accuracy_score\n",
    "\n",
    "# Use a subset of the data for quicker training\n",
    "data_sampled = data_cleaned.sample(n=20000, random_state=42)\n",
    "X_sample = data_sampled['narrative']\n",
    "y_sample = data_sampled['product']\n",
    "\n",
    "# Split the subset into training and testing sets\n",
    "X_train_sample, X_test_sample, y_train_sample, y_test_sample = train_test_split(\n",
    "    X_sample, y_sample, test_size=0.2, random_state=42, stratify=y_sample)\n",
    "\n",
    "# Re-vectorize the text data on the subset using Bag-of-Words\n",
    "X_train_bow_sample = vectorizer.fit_transform(X_train_sample)\n",
    "X_test_bow_sample = vectorizer.transform(X_test_sample)\n",
    "\n",
    "# Initialize and train the Multinomial Naive Bayes model\n",
    "nb_model = MultinomialNB()\n",
    "nb_model.fit(X_train_bow_sample, y_train_sample)\n",
    "\n",
    "# Make predictions and evaluate the model\n",
    "y_pred_sample = nb_model.predict(X_test_bow_sample)\n",
    "accuracy_sample = accuracy_score(y_test_sample, y_pred_sample)\n",
    "report_sample = classification_report(y_test_sample, y_pred_sample)\n",
    "\n",
    "print(\"Accuracy is: \", accuracy_sample)\n",
    "print(\"The Report shows: \", report_sample)"
   ]
  },
  {
   "cell_type": "markdown",
   "id": "ce565656-8247-40be-a5bc-0f06ed1f21ae",
   "metadata": {},
   "source": [
    "## Support Vector Machine (SVM)"
   ]
  },
  {
   "cell_type": "code",
   "execution_count": 23,
   "id": "0c3c1588-ac21-4a1b-a4fc-bd5f86850e63",
   "metadata": {},
   "outputs": [
    {
     "name": "stdout",
     "output_type": "stream",
     "text": [
      "SVM Accuracy:  0.85175\n",
      "SVM Report:                       precision    recall  f1-score   support\n",
      "\n",
      "        credit_card       0.76      0.72      0.74       387\n",
      "   credit_reporting       0.90      0.92      0.91      2254\n",
      "    debt_collection       0.75      0.71      0.73       565\n",
      "mortgages_and_loans       0.81      0.78      0.79       467\n",
      "     retail_banking       0.84      0.87      0.85       327\n",
      "\n",
      "           accuracy                           0.85      4000\n",
      "          macro avg       0.81      0.80      0.81      4000\n",
      "       weighted avg       0.85      0.85      0.85      4000\n",
      "\n"
     ]
    }
   ],
   "source": [
    "from sklearn.feature_extraction.text import TfidfVectorizer\n",
    "from sklearn.svm import LinearSVC\n",
    "\n",
    "# Use TF-IDF vectorization\n",
    "tfidf_vectorizer = TfidfVectorizer(max_features=5000)  # Limiting features to reduce computational load\n",
    "X_train_tfidf = tfidf_vectorizer.fit_transform(X_train_sample)\n",
    "X_test_tfidf = tfidf_vectorizer.transform(X_test_sample)\n",
    "\n",
    "# Initialize and train the SVM model\n",
    "svm_model = LinearSVC(random_state=42, max_iter=1000)\n",
    "svm_model.fit(X_train_tfidf, y_train_sample)\n",
    "\n",
    "# Make predictions and evaluate the model\n",
    "y_pred_svm = svm_model.predict(X_test_tfidf)\n",
    "accuracy_svm = accuracy_score(y_test_sample, y_pred_svm)\n",
    "report_svm = classification_report(y_test_sample, y_pred_svm)\n",
    "\n",
    "print(\"SVM Accuracy: \", accuracy_svm)\n",
    "print(\"SVM Report: \", report_svm)"
   ]
  },
  {
   "cell_type": "markdown",
   "id": "3866b238-538d-4b10-98dd-2bd1b465d558",
   "metadata": {},
   "source": [
    "## Feature Engineering Techniques"
   ]
  },
  {
   "cell_type": "markdown",
   "id": "cf37246b-aa00-47e9-ae13-3f12339e4f96",
   "metadata": {},
   "source": [
    "#### 1. Text Preprocessing Enhancements"
   ]
  },
  {
   "cell_type": "code",
   "execution_count": 25,
   "id": "ea12ece0-fcd0-428c-b3f5-e18ea0e6b25d",
   "metadata": {},
   "outputs": [
    {
     "name": "stderr",
     "output_type": "stream",
     "text": [
      "[nltk_data] Downloading package stopwords to\n",
      "[nltk_data]     C:\\Users\\John.Kul\\AppData\\Roaming\\nltk_data...\n",
      "[nltk_data]   Package stopwords is already up-to-date!\n",
      "[nltk_data] Downloading package wordnet to\n",
      "[nltk_data]     C:\\Users\\John.Kul\\AppData\\Roaming\\nltk_data...\n",
      "[nltk_data]   Package wordnet is already up-to-date!\n",
      "C:\\Users\\John.Kul\\AppData\\Local\\Temp\\ipykernel_22852\\2659508970.py:32: SettingWithCopyWarning: \n",
      "A value is trying to be set on a copy of a slice from a DataFrame.\n",
      "Try using .loc[row_indexer,col_indexer] = value instead\n",
      "\n",
      "See the caveats in the documentation: https://pandas.pydata.org/pandas-docs/stable/user_guide/indexing.html#returning-a-view-versus-a-copy\n",
      "  data_cleaned['narrative_cleaned'] = data_cleaned['narrative'].apply(preprocess_text)\n"
     ]
    },
    {
     "name": "stdout",
     "output_type": "stream",
     "text": [
      "Accuracy: 0.8365\n",
      "\n",
      "Classification Report:\n",
      "                      precision    recall  f1-score   support\n",
      "\n",
      "        credit_card       0.73      0.71      0.72       387\n",
      "   credit_reporting       0.89      0.90      0.90      2254\n",
      "    debt_collection       0.81      0.62      0.70       565\n",
      "mortgages_and_loans       0.71      0.86      0.78       467\n",
      "     retail_banking       0.84      0.86      0.85       327\n",
      "\n",
      "           accuracy                           0.84      4000\n",
      "          macro avg       0.80      0.79      0.79      4000\n",
      "       weighted avg       0.84      0.84      0.83      4000\n",
      "\n"
     ]
    }
   ],
   "source": [
    "import pandas as pd\n",
    "import string\n",
    "from sklearn.model_selection import train_test_split\n",
    "from sklearn.feature_extraction.text import TfidfVectorizer\n",
    "from sklearn.naive_bayes import MultinomialNB\n",
    "from sklearn.metrics import classification_report, accuracy_score\n",
    "from nltk.corpus import stopwords\n",
    "from nltk.stem import WordNetLemmatizer\n",
    "import nltk\n",
    "\n",
    "# Download necessary NLTK data files\n",
    "nltk.download('stopwords')\n",
    "nltk.download('wordnet')\n",
    "\n",
    "# Initialize lemmatizer and define stopwords\n",
    "lemmatizer = WordNetLemmatizer()\n",
    "stop_words = set(stopwords.words('english'))\n",
    "\n",
    "# Function for text preprocessing\n",
    "def preprocess_text(text):\n",
    "    # Lowercase\n",
    "    text = text.lower()\n",
    "    # Remove punctuation\n",
    "    text = text.translate(str.maketrans('', '', string.punctuation))\n",
    "    # Tokenize and remove stopwords\n",
    "    tokens = text.split()\n",
    "    tokens = [lemmatizer.lemmatize(word) for word in tokens if word not in stop_words]\n",
    "    # Join tokens back to string\n",
    "    return ' '.join(tokens)\n",
    "\n",
    "# Apply preprocessing\n",
    "data_cleaned['narrative_cleaned'] = data_cleaned['narrative'].apply(preprocess_text)\n",
    "\n",
    "# Define features and target\n",
    "X = data_cleaned['narrative_cleaned']\n",
    "y = data_cleaned['product']\n",
    "\n",
    "# Use a subset of the data for faster processing (20,000 samples)\n",
    "data_sampled = data_cleaned.sample(n=20000, random_state=42)\n",
    "X_sample = data_sampled['narrative_cleaned']\n",
    "y_sample = data_sampled['product']\n",
    "\n",
    "# Split the data into training and testing sets\n",
    "X_train, X_test, y_train, y_test = train_test_split(\n",
    "    X_sample, y_sample, test_size=0.2, random_state=42, stratify=y_sample)\n",
    "\n",
    "# Vectorize the text data using TF-IDF with enhanced parameters\n",
    "tfidf_vectorizer = TfidfVectorizer(\n",
    "    max_features=10000,      # Increase the number of features\n",
    "    ngram_range=(1,2),       # Include unigrams and bigrams\n",
    "    min_df=5,                # Ignore terms that appear in fewer than 5 documents\n",
    "    max_df=0.8,              # Ignore terms that appear in more than 80% of documents\n",
    "    sublinear_tf=True        # Apply sublinear tf scaling\n",
    ")\n",
    "X_train_tfidf = tfidf_vectorizer.fit_transform(X_train)\n",
    "X_test_tfidf = tfidf_vectorizer.transform(X_test)\n",
    "\n",
    "# Initialize and train the Multinomial Naive Bayes model\n",
    "nb_model = MultinomialNB()\n",
    "nb_model.fit(X_train_tfidf, y_train)\n",
    "\n",
    "# Make predictions and evaluate the model\n",
    "y_pred = nb_model.predict(X_test_tfidf)\n",
    "accuracy = accuracy_score(y_test, y_pred)\n",
    "report = classification_report(y_test, y_pred)\n",
    "\n",
    "print(\"Accuracy:\", accuracy)\n",
    "print(\"\\nClassification Report:\\n\", report)"
   ]
  },
  {
   "cell_type": "markdown",
   "id": "4825161e-47ef-421f-89eb-4fdbec4d1a7b",
   "metadata": {},
   "source": [
    "#### 2. Incorporating Additional Features"
   ]
  },
  {
   "cell_type": "code",
   "execution_count": 30,
   "id": "2fc52c89-23bf-4d29-8c45-1021420d9e40",
   "metadata": {},
   "outputs": [
    {
     "name": "stdout",
     "output_type": "stream",
     "text": [
      "Accuracy with Additional Features: 0.83625\n",
      "\n",
      "Classification Report with Additional Features:\n",
      "                      precision    recall  f1-score   support\n",
      "\n",
      "        credit_card       0.73      0.71      0.72       387\n",
      "   credit_reporting       0.89      0.90      0.90      2254\n",
      "    debt_collection       0.81      0.62      0.70       565\n",
      "mortgages_and_loans       0.71      0.86      0.78       467\n",
      "     retail_banking       0.84      0.86      0.85       327\n",
      "\n",
      "           accuracy                           0.84      4000\n",
      "          macro avg       0.80      0.79      0.79      4000\n",
      "       weighted avg       0.84      0.84      0.83      4000\n",
      "\n"
     ]
    }
   ],
   "source": [
    "from sklearn.preprocessing import MinMaxScaler\n",
    "from scipy.sparse import hstack\n",
    "from sklearn.feature_extraction.text import TfidfVectorizer\n",
    "from sklearn.naive_bayes import MultinomialNB\n",
    "from sklearn.metrics import accuracy_score, classification_report\n",
    "from sklearn.model_selection import train_test_split\n",
    "\n",
    "# Assuming data_sampled and other preprocessing has already been done up to this point.\n",
    "\n",
    "# Feature: Text Length (number of words)\n",
    "data_sampled['text_length'] = data_sampled['narrative_cleaned'].apply(lambda x: len(x.split()))\n",
    "\n",
    "# Feature: Number of Unique Words\n",
    "data_sampled['unique_words'] = data_sampled['narrative_cleaned'].apply(lambda x: len(set(x.split())))\n",
    "\n",
    "# Re-split after adding new features\n",
    "X_sample = data_sampled['narrative_cleaned']\n",
    "y_sample = data_sampled['product']\n",
    "\n",
    "X_train, X_test, y_train, y_test = train_test_split(\n",
    "    X_sample, y_sample, test_size=0.2, random_state=42, stratify=y_sample)\n",
    "\n",
    "# Vectorize text data\n",
    "tfidf_vectorizer = TfidfVectorizer(max_features=10000, ngram_range=(1,2), min_df=5, max_df=0.8, sublinear_tf=True)\n",
    "X_train_tfidf = tfidf_vectorizer.fit_transform(X_train)\n",
    "X_test_tfidf = tfidf_vectorizer.transform(X_test)\n",
    "\n",
    "# Extract additional numerical features\n",
    "additional_features_train = data_sampled.loc[X_train.index, ['text_length', 'unique_words']].values\n",
    "additional_features_test = data_sampled.loc[X_test.index, ['text_length', 'unique_words']].values\n",
    "\n",
    "# Scale numerical features with MinMaxScaler to ensure all values are non-negative\n",
    "scaler = MinMaxScaler()\n",
    "additional_features_train_scaled = scaler.fit_transform(additional_features_train)\n",
    "additional_features_test_scaled = scaler.transform(additional_features_test)\n",
    "\n",
    "# Combine TF-IDF features with additional numerical features\n",
    "X_train_combined = hstack([X_train_tfidf, additional_features_train_scaled])\n",
    "X_test_combined = hstack([X_test_tfidf, additional_features_test_scaled])\n",
    "\n",
    "# Initialize and train the Multinomial Naive Bayes model\n",
    "nb_model_combined = MultinomialNB()\n",
    "nb_model_combined.fit(X_train_combined, y_train)\n",
    "\n",
    "# Make predictions and evaluate the model\n",
    "y_pred_combined = nb_model_combined.predict(X_test_combined)\n",
    "accuracy_combined = accuracy_score(y_test, y_pred_combined)\n",
    "report_combined = classification_report(y_test, y_pred_combined)\n",
    "\n",
    "print(\"Accuracy with Additional Features:\", accuracy_combined)\n",
    "print(\"\\nClassification Report with Additional Features:\\n\", report_combined)"
   ]
  },
  {
   "cell_type": "markdown",
   "id": "8575e478-2cdd-41b8-b681-da321e9ccb40",
   "metadata": {},
   "source": [
    "#### 3. Dimensionality Reduction with Truncated SVD (Latent Semantic Analysis)"
   ]
  },
  {
   "cell_type": "code",
   "execution_count": 32,
   "id": "82cca909-1e0f-46d2-8298-dcb567bcc13d",
   "metadata": {},
   "outputs": [
    {
     "name": "stdout",
     "output_type": "stream",
     "text": [
      "Accuracy with Dimensionality Reduction: 0.85\n",
      "\n",
      "Classification Report with Dimensionality Reduction:\n",
      "                      precision    recall  f1-score   support\n",
      "\n",
      "        credit_card       0.77      0.70      0.73       387\n",
      "   credit_reporting       0.88      0.93      0.90      2254\n",
      "    debt_collection       0.80      0.65      0.72       565\n",
      "mortgages_and_loans       0.82      0.79      0.80       467\n",
      "     retail_banking       0.85      0.89      0.87       327\n",
      "\n",
      "           accuracy                           0.85      4000\n",
      "          macro avg       0.82      0.79      0.81      4000\n",
      "       weighted avg       0.85      0.85      0.85      4000\n",
      "\n"
     ]
    }
   ],
   "source": [
    "from sklearn.decomposition import TruncatedSVD\n",
    "from scipy.sparse import csr_matrix, hstack\n",
    "from sklearn.linear_model import LogisticRegression\n",
    "from sklearn.metrics import accuracy_score, classification_report\n",
    "\n",
    "# Apply Truncated SVD to reduce dimensionality\n",
    "svd = TruncatedSVD(n_components=300, random_state=42)  # Adjust n_components as needed\n",
    "X_train_svd = svd.fit_transform(X_train_tfidf)\n",
    "X_test_svd = svd.transform(X_test_tfidf)\n",
    "\n",
    "# Convert SVD-transformed data to sparse format to use with hstack\n",
    "X_train_svd_sparse = csr_matrix(X_train_svd)\n",
    "X_test_svd_sparse = csr_matrix(X_test_svd)\n",
    "\n",
    "# Combine with additional features\n",
    "X_train_reduced = hstack([X_train_svd_sparse, additional_features_train_scaled])\n",
    "X_test_reduced = hstack([X_test_svd_sparse, additional_features_test_scaled])\n",
    "\n",
    "# Initialize and train the Logistic Regression model\n",
    "lr_model_reduced = LogisticRegression(max_iter=1000, random_state=42)\n",
    "lr_model_reduced.fit(X_train_reduced, y_train)\n",
    "\n",
    "# Make predictions and evaluate the model\n",
    "y_pred_reduced = lr_model_reduced.predict(X_test_reduced)\n",
    "accuracy_reduced = accuracy_score(y_test, y_pred_reduced)\n",
    "report_reduced = classification_report(y_test, y_pred_reduced)\n",
    "\n",
    "print(\"Accuracy with Dimensionality Reduction:\", accuracy_reduced)\n",
    "print(\"\\nClassification Report with Dimensionality Reduction:\\n\", report_reduced)"
   ]
  },
  {
   "cell_type": "markdown",
   "id": "497007df-f063-446c-9a58-fe56af57a3a1",
   "metadata": {},
   "source": [
    "#### 4. Feature Selection with Chi-Squared Test"
   ]
  },
  {
   "cell_type": "code",
   "execution_count": 33,
   "id": "8e9952f2-9155-4366-bb70-78eca26bec02",
   "metadata": {},
   "outputs": [
    {
     "name": "stdout",
     "output_type": "stream",
     "text": [
      "Accuracy with Feature Selection: 0.83875\n",
      "\n",
      "Classification Report with Feature Selection:\n",
      "                      precision    recall  f1-score   support\n",
      "\n",
      "        credit_card       0.73      0.73      0.73       387\n",
      "   credit_reporting       0.88      0.91      0.90      2254\n",
      "    debt_collection       0.83      0.60      0.69       565\n",
      "mortgages_and_loans       0.74      0.85      0.79       467\n",
      "     retail_banking       0.83      0.88      0.85       327\n",
      "\n",
      "           accuracy                           0.84      4000\n",
      "          macro avg       0.80      0.79      0.79      4000\n",
      "       weighted avg       0.84      0.84      0.84      4000\n",
      "\n"
     ]
    }
   ],
   "source": [
    "from sklearn.feature_selection import SelectKBest, chi2\n",
    "from sklearn.preprocessing import MinMaxScaler\n",
    "from scipy.sparse import hstack\n",
    "from sklearn.naive_bayes import MultinomialNB\n",
    "from sklearn.metrics import accuracy_score, classification_report\n",
    "\n",
    "# Apply Chi-Squared feature selection\n",
    "selector = SelectKBest(chi2, k=5000)  # Select top 5000 features\n",
    "X_train_selected = selector.fit_transform(X_train_tfidf, y_train)\n",
    "X_test_selected = selector.transform(X_test_tfidf)\n",
    "\n",
    "# Scale additional features using MinMaxScaler to ensure non-negative values\n",
    "scaler = MinMaxScaler()\n",
    "additional_features_train_scaled = scaler.fit_transform(additional_features_train)\n",
    "additional_features_test_scaled = scaler.transform(additional_features_test)\n",
    "\n",
    "# Combine TF-IDF-selected features with additional scaled features\n",
    "X_train_final = hstack([X_train_selected, additional_features_train_scaled])\n",
    "X_test_final = hstack([X_test_selected, additional_features_test_scaled])\n",
    "\n",
    "# Initialize and train the Multinomial Naive Bayes model\n",
    "nb_model_final = MultinomialNB()\n",
    "nb_model_final.fit(X_train_final, y_train)\n",
    "\n",
    "# Make predictions and evaluate the model\n",
    "y_pred_final = nb_model_final.predict(X_test_final)\n",
    "accuracy_final = accuracy_score(y_test, y_pred_final)\n",
    "report_final = classification_report(y_test, y_pred_final)\n",
    "\n",
    "print(\"Accuracy with Feature Selection:\", accuracy_final)\n",
    "print(\"\\nClassification Report with Feature Selection:\\n\", report_final)"
   ]
  },
  {
   "cell_type": "markdown",
   "id": "73ba647b-c227-4803-86f8-52722232446f",
   "metadata": {},
   "source": [
    "#### 5. Incorporating Word Embeddings (Optional Advanced Feature Engineering)"
   ]
  },
  {
   "cell_type": "code",
   "execution_count": 29,
   "id": "ff4d9ea9-6e22-45e6-a73a-a3386b8c655f",
   "metadata": {},
   "outputs": [
    {
     "name": "stdout",
     "output_type": "stream",
     "text": [
      "Accuracy with Word Embeddings: 0.843\n",
      "\n",
      "Classification Report with Word Embeddings:\n",
      "                      precision    recall  f1-score   support\n",
      "\n",
      "        credit_card       0.73      0.65      0.69       387\n",
      "   credit_reporting       0.87      0.95      0.91      2254\n",
      "    debt_collection       0.82      0.61      0.70       565\n",
      "mortgages_and_loans       0.80      0.78      0.79       467\n",
      "     retail_banking       0.83      0.82      0.82       327\n",
      "\n",
      "           accuracy                           0.84      4000\n",
      "          macro avg       0.81      0.76      0.78      4000\n",
      "       weighted avg       0.84      0.84      0.84      4000\n",
      "\n"
     ]
    }
   ],
   "source": [
    "import numpy as np\n",
    "from gensim.models import Word2Vec\n",
    "from sklearn.preprocessing import LabelEncoder\n",
    "\n",
    "# Tokenize the cleaned narratives\n",
    "data_sampled['tokens'] = data_sampled['narrative_cleaned'].apply(lambda x: x.split())\n",
    "\n",
    "# Train a Word2Vec model\n",
    "w2v_model = Word2Vec(sentences=data_sampled['tokens'], vector_size=100, window=5, min_count=5, workers=4, seed=42)\n",
    "w2v_model.train(data_sampled['tokens'], total_examples=len(data_sampled['tokens']), epochs=10)\n",
    "\n",
    "# Function to compute average Word2Vec vectors\n",
    "def average_w2v(tokens, model, vector_size=100):\n",
    "    vectors = [model.wv[word] for word in tokens if word in model.wv]\n",
    "    if len(vectors) == 0:\n",
    "        return np.zeros(vector_size)\n",
    "    return np.mean(vectors, axis=0)\n",
    "\n",
    "# Compute average Word2Vec vectors for training and testing sets\n",
    "X_train_w2v = np.array([average_w2v(tokens, w2v_model) for tokens in X_train.apply(lambda x: x.split())])\n",
    "X_test_w2v = np.array([average_w2v(tokens, w2v_model) for tokens in X_test.apply(lambda x: x.split())])\n",
    "\n",
    "# Combine with additional features\n",
    "X_train_final_w2v = np.hstack([X_train_w2v, additional_features_train_scaled])\n",
    "X_test_final_w2v = np.hstack([X_test_w2v, additional_features_test_scaled])\n",
    "\n",
    "# Encode target labels\n",
    "label_encoder = LabelEncoder()\n",
    "y_train_encoded = label_encoder.fit_transform(y_train)\n",
    "y_test_encoded = label_encoder.transform(y_test)\n",
    "\n",
    "# Initialize and train a different model, e.g., Random Forest\n",
    "from sklearn.ensemble import RandomForestClassifier\n",
    "\n",
    "rf_model = RandomForestClassifier(n_estimators=100, random_state=42, n_jobs=-1)\n",
    "rf_model.fit(X_train_final_w2v, y_train_encoded)\n",
    "\n",
    "# Make predictions and evaluate the model\n",
    "y_pred_rf = rf_model.predict(X_test_final_w2v)\n",
    "accuracy_rf = accuracy_score(y_test_encoded, y_pred_rf)\n",
    "report_rf = classification_report(y_test_encoded, y_pred_rf, target_names=label_encoder.classes_)\n",
    "\n",
    "print(\"Accuracy with Word Embeddings:\", accuracy_rf)\n",
    "print(\"\\nClassification Report with Word Embeddings:\\n\", report_rf)"
   ]
  },
  {
   "cell_type": "markdown",
   "id": "e50139fa-8fc9-43de-8370-5e26d2be5a20",
   "metadata": {},
   "source": [
    "### 7. Next Steps\n",
    "\n",
    "After implementing these feature engineering techniques, consider the following to further enhance your models:\n",
    "\n",
    "Hyperparameter Tuning: Use techniques like Grid Search or Random Search to find optimal model parameters.\n",
    "\n",
    "Cross-Validation: Implement k-fold cross-validation to ensure model robustness.\n",
    "\n",
    "Advanced Models: Experiment with models like XGBoost, LightGBM, or Deep Learning models (e.g., LSTM, BERT) for potentially better performance.\n",
    "\n",
    "Ensemble Methods: Combine multiple models to leverage their individual strengths."
   ]
  },
  {
   "cell_type": "markdown",
   "id": "36c1254e-31bb-46de-a49a-9a92874dd557",
   "metadata": {},
   "source": [
    "### Implementing Hyperparameter Tuning with GridSearchCV"
   ]
  },
  {
   "cell_type": "code",
   "execution_count": 34,
   "id": "cedef810-9527-4525-ad45-bba37024fa47",
   "metadata": {},
   "outputs": [
    {
     "name": "stdout",
     "output_type": "stream",
     "text": [
      "Fitting 5 folds for each of 4 candidates, totalling 20 fits\n",
      "Best Parameters: {'alpha': 0.01}\n",
      "Accuracy with Hyperparameter Tuning: 0.8375\n",
      "\n",
      "Classification Report with Hyperparameter Tuning:\n",
      "                      precision    recall  f1-score   support\n",
      "\n",
      "        credit_card       0.70      0.75      0.72       387\n",
      "   credit_reporting       0.91      0.88      0.89      2254\n",
      "    debt_collection       0.77      0.69      0.73       565\n",
      "mortgages_and_loans       0.71      0.86      0.78       467\n",
      "     retail_banking       0.83      0.91      0.87       327\n",
      "\n",
      "           accuracy                           0.84      4000\n",
      "          macro avg       0.78      0.82      0.80      4000\n",
      "       weighted avg       0.84      0.84      0.84      4000\n",
      "\n"
     ]
    }
   ],
   "source": [
    "from sklearn.model_selection import GridSearchCV\n",
    "from sklearn.naive_bayes import MultinomialNB\n",
    "from sklearn.metrics import accuracy_score, classification_report\n",
    "\n",
    "# Define parameter grid for MultinomialNB\n",
    "param_grid = {\n",
    "    'alpha': [0.01, 0.1, 0.5, 1.0]  # Explore different smoothing values\n",
    "}\n",
    "\n",
    "# Initialize MultinomialNB model\n",
    "nb_model = MultinomialNB()\n",
    "\n",
    "# Set up GridSearchCV with 5-fold cross-validation\n",
    "grid_search = GridSearchCV(nb_model, param_grid, cv=5, scoring='accuracy', n_jobs=-1, verbose=1)\n",
    "grid_search.fit(X_train_final, y_train)\n",
    "\n",
    "# Get the best model from grid search\n",
    "best_nb_model = grid_search.best_estimator_\n",
    "\n",
    "# Make predictions with the tuned model\n",
    "y_pred_tuned = best_nb_model.predict(X_test_final)\n",
    "accuracy_tuned = accuracy_score(y_test, y_pred_tuned)\n",
    "report_tuned = classification_report(y_test, y_pred_tuned)\n",
    "\n",
    "print(\"Best Parameters:\", grid_search.best_params_)\n",
    "print(\"Accuracy with Hyperparameter Tuning:\", accuracy_tuned)\n",
    "print(\"\\nClassification Report with Hyperparameter Tuning:\\n\", report_tuned)"
   ]
  },
  {
   "cell_type": "markdown",
   "id": "0f87ee54-b111-4013-93a5-230d467f9055",
   "metadata": {},
   "source": [
    "### Alternative: RandomizedSearchCV"
   ]
  },
  {
   "cell_type": "code",
   "execution_count": 35,
   "id": "e49d8425-d592-4fbd-a554-c3540d94467d",
   "metadata": {},
   "outputs": [
    {
     "name": "stderr",
     "output_type": "stream",
     "text": [
      "C:\\Users\\John.Kul\\AppData\\Local\\anaconda3\\Lib\\site-packages\\sklearn\\model_selection\\_search.py:305: UserWarning: The total space of parameters 4 is smaller than n_iter=10. Running 4 iterations. For exhaustive searches, use GridSearchCV.\n",
      "  warnings.warn(\n"
     ]
    },
    {
     "name": "stdout",
     "output_type": "stream",
     "text": [
      "Fitting 5 folds for each of 4 candidates, totalling 20 fits\n",
      "Best Parameters with RandomizedSearchCV: {'alpha': 0.01}\n",
      "Accuracy with Hyperparameter Tuning (Random Search): 0.8375\n",
      "\n",
      "Classification Report with Hyperparameter Tuning (Random Search):\n",
      "                      precision    recall  f1-score   support\n",
      "\n",
      "        credit_card       0.70      0.75      0.72       387\n",
      "   credit_reporting       0.91      0.88      0.89      2254\n",
      "    debt_collection       0.77      0.69      0.73       565\n",
      "mortgages_and_loans       0.71      0.86      0.78       467\n",
      "     retail_banking       0.83      0.91      0.87       327\n",
      "\n",
      "           accuracy                           0.84      4000\n",
      "          macro avg       0.78      0.82      0.80      4000\n",
      "       weighted avg       0.84      0.84      0.84      4000\n",
      "\n"
     ]
    }
   ],
   "source": [
    "from sklearn.model_selection import RandomizedSearchCV\n",
    "\n",
    "# Initialize RandomizedSearchCV with 10 random parameter samples\n",
    "random_search = RandomizedSearchCV(nb_model, param_grid, n_iter=10, cv=5, scoring='accuracy', n_jobs=-1, verbose=1, random_state=42)\n",
    "random_search.fit(X_train_final, y_train)\n",
    "\n",
    "# Get the best model from random search\n",
    "best_nb_model_random = random_search.best_estimator_\n",
    "\n",
    "# Make predictions and evaluate\n",
    "y_pred_tuned_random = best_nb_model_random.predict(X_test_final)\n",
    "accuracy_tuned_random = accuracy_score(y_test, y_pred_tuned_random)\n",
    "report_tuned_random = classification_report(y_test, y_pred_tuned_random)\n",
    "\n",
    "print(\"Best Parameters with RandomizedSearchCV:\", random_search.best_params_)\n",
    "print(\"Accuracy with Hyperparameter Tuning (Random Search):\", accuracy_tuned_random)\n",
    "print(\"\\nClassification Report with Hyperparameter Tuning (Random Search):\\n\", report_tuned_random)"
   ]
  },
  {
   "cell_type": "code",
   "execution_count": null,
   "id": "4a710dc4-326c-4fee-9c42-68e0bc434731",
   "metadata": {},
   "outputs": [],
   "source": []
  },
  {
   "cell_type": "code",
   "execution_count": 36,
   "id": "5b54dfc8-c86b-4a46-9212-653c544d672d",
   "metadata": {},
   "outputs": [
    {
     "name": "stdout",
     "output_type": "stream",
     "text": [
      "Cross-Validation Accuracy Scores: [0.849375  0.8359375 0.8378125 0.8290625 0.83375  ]\n",
      "Mean CV Accuracy: 0.8371875\n",
      "Standard Deviation of CV Accuracy: 0.006757518960387743\n"
     ]
    }
   ],
   "source": [
    "from sklearn.model_selection import cross_val_score\n",
    "from sklearn.naive_bayes import MultinomialNB\n",
    "from sklearn.metrics import make_scorer, accuracy_score\n",
    "\n",
    "# Define the MultinomialNB model with the best alpha (if already tuned)\n",
    "nb_model = MultinomialNB(alpha=grid_search.best_params_['alpha'])  # Replace with best alpha from tuning\n",
    "\n",
    "# Define custom scorer for accuracy (or use predefined 'accuracy')\n",
    "scorer = make_scorer(accuracy_score)\n",
    "\n",
    "# Perform 5-fold cross-validation\n",
    "cv_scores = cross_val_score(nb_model, X_train_final, y_train, cv=5, scoring=scorer, n_jobs=-1)\n",
    "\n",
    "# Calculate mean and standard deviation of accuracy\n",
    "mean_accuracy = cv_scores.mean()\n",
    "std_accuracy = cv_scores.std()\n",
    "\n",
    "print(\"Cross-Validation Accuracy Scores:\", cv_scores)\n",
    "print(\"Mean CV Accuracy:\", mean_accuracy)\n",
    "print(\"Standard Deviation of CV Accuracy:\", std_accuracy)"
   ]
  },
  {
   "cell_type": "code",
   "execution_count": 37,
   "id": "f6c603d3-905a-4b8d-9b30-da2439092c75",
   "metadata": {},
   "outputs": [
    {
     "name": "stdout",
     "output_type": "stream",
     "text": [
      "Fitting 5 folds for each of 4 candidates, totalling 20 fits\n",
      "Best Parameters: {'alpha': 0.01}\n",
      "Best CV Score: 0.8371875\n"
     ]
    }
   ],
   "source": [
    "from sklearn.model_selection import GridSearchCV\n",
    "\n",
    "# Define parameter grid\n",
    "param_grid = {'alpha': [0.01, 0.1, 0.5, 1.0]}\n",
    "\n",
    "# Set up GridSearchCV with 5-fold cross-validation\n",
    "grid_search_cv = GridSearchCV(MultinomialNB(), param_grid, cv=5, scoring='accuracy', n_jobs=-1, verbose=1)\n",
    "grid_search_cv.fit(X_train_final, y_train)\n",
    "\n",
    "# Results\n",
    "best_nb_model_cv = grid_search_cv.best_estimator_\n",
    "print(\"Best Parameters:\", grid_search_cv.best_params_)\n",
    "print(\"Best CV Score:\", grid_search_cv.best_score_)"
   ]
  },
  {
   "cell_type": "code",
   "execution_count": null,
   "id": "19761672-ad0f-4fda-8c07-e6718fa20d2e",
   "metadata": {},
   "outputs": [],
   "source": []
  }
 ],
 "metadata": {
  "kernelspec": {
   "display_name": "Python 3 (ipykernel)",
   "language": "python",
   "name": "python3"
  },
  "language_info": {
   "codemirror_mode": {
    "name": "ipython",
    "version": 3
   },
   "file_extension": ".py",
   "mimetype": "text/x-python",
   "name": "python",
   "nbconvert_exporter": "python",
   "pygments_lexer": "ipython3",
   "version": "3.11.7"
  }
 },
 "nbformat": 4,
 "nbformat_minor": 5
}
